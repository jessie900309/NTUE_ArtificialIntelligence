{
 "cells": [
  {
   "cell_type": "code",
   "execution_count": 1,
   "id": "8f1536a4",
   "metadata": {},
   "outputs": [
    {
     "name": "stdout",
     "output_type": "stream",
     "text": [
      "[[-54.29619915 -55.84492426 -57.70509902 -46.80467167 -47.18452432\n",
      "  -56.77109825]\n",
      " [-58.03786    -51.3649     -42.8752726  -70.98668596 -58.49786736\n",
      "  -55.93776941]\n",
      " [-59.95815356 -51.09653955 -61.88934484 -52.36408345 -49.49788981\n",
      "  -48.88895675]\n",
      " ...\n",
      " [-53.40874158 -60.84021556 -51.23357536 -51.38278381 -35.88665949\n",
      "  -50.50031336]\n",
      " [-52.77725195 -48.65652017 -61.70492883 -52.52360053 -51.09924776\n",
      "  -61.54001236]\n",
      " [-58.46378652 -55.5427065  -50.90296116 -57.43968404 -60.20844646\n",
      "  -49.26780849]]\n",
      "[[ 556 1361]\n",
      " [1816  351]\n",
      " [1153  859]\n",
      " ...\n",
      " [ 994 1475]\n",
      " [ 843  752]\n",
      " [1814  756]]\n"
     ]
    }
   ],
   "source": [
    "import numpy as np\n",
    "import scipy.io as scio\n",
    "\n",
    "# 用 scipy.io 讀取 .mat 格式的資料集\n",
    "offline_data = scio.loadmat('offline_data_random.mat')\n",
    "online_data = scio.loadmat('online_data.mat')\n",
    "\n",
    "X_train = offline_data['offline_rss']\n",
    "Y_train = offline_data['offline_location']\n",
    "X_test = online_data['rss']\n",
    "Y_test = online_data['trace']\n",
    "\n",
    "print(X_train)\n",
    "print(Y_train)"
   ]
  },
  {
   "cell_type": "code",
   "execution_count": 2,
   "id": "f51fb6d0",
   "metadata": {},
   "outputs": [
    {
     "name": "stdout",
     "output_type": "stream",
     "text": [
      "[[ 556 1361]\n",
      " [1816  351]\n",
      " [1153  859]\n",
      " ...\n",
      " [ 994 1475]\n",
      " [ 843  752]\n",
      " [1814  756]]\n",
      "[ 614. 1804. 1209. ... 1015.  808. 1808.]\n"
     ]
    }
   ],
   "source": [
    "# 區域對應\n",
    "labels = np.round(Y_train[:,0]/100)*100 + np.round(Y_train[:,1]/100)\n",
    "print(Y_train)\n",
    "print(labels)"
   ]
  },
  {
   "cell_type": "code",
   "execution_count": 5,
   "id": "9d24e2e6",
   "metadata": {},
   "outputs": [
    {
     "name": "stdout",
     "output_type": "stream",
     "text": [
      "KNeighborsClassifier(n_neighbors=10)\n"
     ]
    }
   ],
   "source": [
    "# from sklearn import neighbors\n",
    "# knn = neighbors.KNeighborsClassifier(n_neighbors=10)\n",
    "# knn.fit(X_train, Y_train)\n",
    "# print(knn)"
   ]
  },
  {
   "cell_type": "code",
   "execution_count": 6,
   "id": "ea47d4e9",
   "metadata": {},
   "outputs": [
    {
     "name": "stdout",
     "output_type": "stream",
     "text": [
      "KNeighborsClassifier(n_neighbors=10)\n"
     ]
    }
   ],
   "source": [
    "from sklearn import neighbors\n",
    "knn = neighbors.KNeighborsClassifier(n_neighbors=10)\n",
    "knn.fit(X_train, labels)\n",
    "print(knn)"
   ]
  },
  {
   "cell_type": "code",
   "execution_count": 7,
   "id": "dee6e9ce",
   "metadata": {},
   "outputs": [
    {
     "name": "stdout",
     "output_type": "stream",
     "text": [
      "predict:\n",
      " [1612. 1409.  208. ...  404.  104.  307.]\n",
      "true_labels:\n",
      " [1511. 1510. 1510. ...  206.  206.  307.]\n"
     ]
    }
   ],
   "source": [
    "p = knn.predict(X_test)\n",
    "print(\"predict:\\n\", p)\n",
    "labels_test = np.round(Y_test[:,0]/100)*100 + np.round(Y_test[:,1]/100)\n",
    "print(\"true_labels:\\n\", labels_test)"
   ]
  },
  {
   "cell_type": "code",
   "execution_count": null,
   "id": "b557baa7",
   "metadata": {},
   "outputs": [],
   "source": []
  }
 ],
 "metadata": {
  "kernelspec": {
   "display_name": "Python 3 (ipykernel)",
   "language": "python",
   "name": "python3"
  },
  "language_info": {
   "codemirror_mode": {
    "name": "ipython",
    "version": 3
   },
   "file_extension": ".py",
   "mimetype": "text/x-python",
   "name": "python",
   "nbconvert_exporter": "python",
   "pygments_lexer": "ipython3",
   "version": "3.7.13"
  }
 },
 "nbformat": 4,
 "nbformat_minor": 5
}
