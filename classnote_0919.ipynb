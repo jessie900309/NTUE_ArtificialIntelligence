{
 "cells": [
  {
   "cell_type": "code",
   "execution_count": 1,
   "id": "0c003e0d",
   "metadata": {},
   "outputs": [
    {
     "name": "stdout",
     "output_type": "stream",
     "text": [
      "sklearn version =  1.0.2\n"
     ]
    }
   ],
   "source": [
    "import sklearn\n",
    "print(\"sklearn version = \", sklearn.__version__)\n",
    "\n",
    "import numpy as np\n",
    "# print(\"numpy version   = \",numpy.__version__)\n",
    "\n",
    "import pandas as pd\n",
    "# print(\"pandas version  = \",pandas.__version__)"
   ]
  },
  {
   "cell_type": "code",
   "execution_count": 2,
   "id": "99e25208",
   "metadata": {},
   "outputs": [
    {
     "name": "stdout",
     "output_type": "stream",
     "text": [
      "x <= 10\n",
      "x == 4\n"
     ]
    }
   ],
   "source": [
    "x = 3\n",
    "x = x + 1\n",
    "\n",
    "if x > 10:\n",
    "    print(\"x > 10\")\n",
    "else:\n",
    "    print(\"x <= 10\")\n",
    "print(\"x == {}\".format(x))"
   ]
  },
  {
   "cell_type": "code",
   "execution_count": 3,
   "id": "9d31c5f8",
   "metadata": {},
   "outputs": [
    {
     "name": "stdout",
     "output_type": "stream",
     "text": [
      "score = 98\n",
      "A\n"
     ]
    }
   ],
   "source": [
    "while 1:\n",
    "    try:\n",
    "        score = float(input(\"score = \"))\n",
    "        if 100>= score >= 0:\n",
    "            break\n",
    "        else:\n",
    "            raise\n",
    "    except:\n",
    "        print(\"num only OHO\\n( 100>= score >= 0 )\")\n",
    "\n",
    "if score >= 90:\n",
    "    print(\"A\")\n",
    "elif score >= 80:\n",
    "    print(\"B\")\n",
    "elif score >= 70:\n",
    "    print(\"C\")\n",
    "elif score >= 60:\n",
    "    print(\"D\")\n",
    "else:\n",
    "    print(\"F\") "
   ]
  },
  {
   "cell_type": "code",
   "execution_count": 4,
   "id": "2e428733",
   "metadata": {},
   "outputs": [
    {
     "name": "stdout",
     "output_type": "stream",
     "text": [
      "sum = 30\n"
     ]
    }
   ],
   "source": [
    "sum = 0\n",
    "for i in range(2, 11, 2):\n",
    "    sum += i\n",
    "print(\"sum = {}\".format(sum))"
   ]
  },
  {
   "cell_type": "code",
   "execution_count": 5,
   "id": "c23b149f",
   "metadata": {},
   "outputs": [
    {
     "name": "stdout",
     "output_type": "stream",
     "text": [
      "sum = 30\n"
     ]
    }
   ],
   "source": [
    "sum = 0\n",
    "i = 2\n",
    "while i <= 10:\n",
    "    if i % 2 == 0:\n",
    "        sum += i\n",
    "    i += 1\n",
    "print(\"sum = {}\".format(sum))"
   ]
  },
  {
   "cell_type": "code",
   "execution_count": 6,
   "id": "72500c8e",
   "metadata": {},
   "outputs": [
    {
     "name": "stdout",
     "output_type": "stream",
     "text": [
      "arr1 fifth element =  -4\n",
      "-4\n"
     ]
    }
   ],
   "source": [
    "arr1 = np.array([0, -1, -2, -3, -4, -5, -6, -7, -8, -9, -10, -11])\n",
    "print(\"arr1 fifth element = \", arr1[4])\n",
    "arr2 = np.reshape(arr1, (2, 6))\n",
    "print(arr2[0][4])\n",
    "# print(arr2[0,4])"
   ]
  },
  {
   "cell_type": "code",
   "execution_count": 7,
   "id": "e0fe7e22",
   "metadata": {},
   "outputs": [
    {
     "name": "stdout",
     "output_type": "stream",
     "text": [
      "   a  h\n",
      "0  s  j\n",
      "1  d  k\n",
      "2  f  l\n",
      "3  g  z\n"
     ]
    }
   ],
   "source": [
    "data1 = pd.read_excel(\"aaa20230919.xlsx\")\n",
    "print(data1)"
   ]
  },
  {
   "cell_type": "code",
   "execution_count": null,
   "id": "bfafa18a",
   "metadata": {},
   "outputs": [],
   "source": []
  },
  {
   "cell_type": "code",
   "execution_count": null,
   "id": "2a54f3dc",
   "metadata": {},
   "outputs": [],
   "source": []
  }
 ],
 "metadata": {
  "kernelspec": {
   "display_name": "Python 3 (ipykernel)",
   "language": "python",
   "name": "python3"
  },
  "language_info": {
   "codemirror_mode": {
    "name": "ipython",
    "version": 3
   },
   "file_extension": ".py",
   "mimetype": "text/x-python",
   "name": "python",
   "nbconvert_exporter": "python",
   "pygments_lexer": "ipython3",
   "version": "3.7.13"
  }
 },
 "nbformat": 4,
 "nbformat_minor": 5
}
