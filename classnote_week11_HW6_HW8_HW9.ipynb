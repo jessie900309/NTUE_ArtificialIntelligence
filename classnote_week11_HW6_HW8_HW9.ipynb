{
 "cells": [
  {
   "cell_type": "code",
   "execution_count": 3,
   "id": "908d1666",
   "metadata": {},
   "outputs": [
    {
     "name": "stdout",
     "output_type": "stream",
     "text": [
      "[0 2 1 0 1 2 2 1 1 2 0 1 0 0 0 0 0 2 0 2 0 0 2 0 0 2 2 0 2 2]\n",
      "[0 2 1 0 2 2 2 1 1 2 0 1 0 0 0 0 0 2 0 2 0 0 2 0 0 2 2 0 2 2]\n",
      "accuracy_score :  0.9666666666666667\n"
     ]
    }
   ],
   "source": [
    "from sklearn import datasets\n",
    "iris = datasets.load_iris()\n",
    "iris_data = iris.data\n",
    "iris_label = iris.target\n",
    "\n",
    "from sklearn.model_selection import train_test_split\n",
    "train_data, test_data, train_label, test_label = train_test_split(iris_data, iris_label, test_size=0.2)\n",
    "\n",
    "from sklearn.svm import SVC\n",
    "svc = SVC()\n",
    "svc.fit(train_data, train_label)\n",
    "predicted = svc.predict(test_data)\n",
    "print(predicted)\n",
    "print(test_label)\n",
    "\n",
    "from sklearn import metrics\n",
    "print(\"accuracy_score : \", metrics.accuracy_score(test_label, predicted))"
   ]
  },
  {
   "cell_type": "code",
   "execution_count": 14,
   "id": "061dc593",
   "metadata": {},
   "outputs": [
    {
     "name": "stdout",
     "output_type": "stream",
     "text": [
      "n_estimators =  10\n",
      "[0 2 1 0 1 2 2 1 1 2 0 1 0 0 0 0 0 2 0 2 0 0 2 0 0 2 2 0 2 2]\n",
      "[0 2 1 0 2 2 2 1 1 2 0 1 0 0 0 0 0 2 0 2 0 0 2 0 0 2 2 0 2 2]\n",
      "accuracy_score :  0.9666666666666667\n",
      "n_estimators =  20\n",
      "[0 2 1 0 1 2 2 1 1 2 0 1 0 0 0 0 0 2 0 2 0 0 2 0 0 2 2 0 2 2]\n",
      "[0 2 1 0 2 2 2 1 1 2 0 1 0 0 0 0 0 2 0 2 0 0 2 0 0 2 2 0 2 2]\n",
      "accuracy_score :  0.9666666666666667\n",
      "n_estimators =  30\n",
      "[0 2 1 0 1 2 2 1 1 2 0 1 0 0 0 0 0 2 0 2 0 0 2 0 0 2 2 0 2 2]\n",
      "[0 2 1 0 2 2 2 1 1 2 0 1 0 0 0 0 0 2 0 2 0 0 2 0 0 2 2 0 2 2]\n",
      "accuracy_score :  0.9666666666666667\n",
      "n_estimators =  40\n",
      "[0 2 1 0 1 2 2 1 1 2 0 1 0 0 0 0 0 2 0 2 0 0 2 0 0 2 2 0 2 2]\n",
      "[0 2 1 0 2 2 2 1 1 2 0 1 0 0 0 0 0 2 0 2 0 0 2 0 0 2 2 0 2 2]\n",
      "accuracy_score :  0.9666666666666667\n",
      "n_estimators =  50\n",
      "[0 2 1 0 1 2 2 1 1 2 0 1 0 0 0 0 0 2 0 2 0 0 2 0 0 2 2 0 2 2]\n",
      "[0 2 1 0 2 2 2 1 1 2 0 1 0 0 0 0 0 2 0 2 0 0 2 0 0 2 2 0 2 2]\n",
      "accuracy_score :  0.9666666666666667\n"
     ]
    }
   ],
   "source": [
    "from sklearn.ensemble import AdaBoostClassifier\n",
    "\n",
    "for n in range(10, 51, 10):\n",
    "    print(\"n_estimators = \", n)\n",
    "    abc = AdaBoostClassifier(n_estimators=n)\n",
    "    abc.fit(train_data, train_label)\n",
    "    predicted = svc.predict(test_data)\n",
    "    print(predicted)\n",
    "    print(test_label)\n",
    "    print(\"accuracy_score : \", metrics.accuracy_score(test_label, predicted))\n",
    "    del abc"
   ]
  },
  {
   "cell_type": "code",
   "execution_count": 16,
   "id": "2faf1128",
   "metadata": {},
   "outputs": [
    {
     "name": "stdout",
     "output_type": "stream",
     "text": [
      "n_estimators =  10\n",
      "[0 2 1 0 1 2 2 1 1 2 0 1 0 0 0 0 0 2 0 2 0 0 2 0 0 2 2 0 2 2]\n",
      "[0 2 1 0 2 2 2 1 1 2 0 1 0 0 0 0 0 2 0 2 0 0 2 0 0 2 2 0 2 2]\n",
      "accuracy_score :  0.9666666666666667\n",
      "n_estimators =  20\n",
      "[0 2 1 0 1 2 2 1 1 2 0 1 0 0 0 0 0 2 0 2 0 0 2 0 0 2 2 0 2 2]\n",
      "[0 2 1 0 2 2 2 1 1 2 0 1 0 0 0 0 0 2 0 2 0 0 2 0 0 2 2 0 2 2]\n",
      "accuracy_score :  0.9666666666666667\n",
      "n_estimators =  30\n",
      "[0 2 1 0 1 2 2 1 1 2 0 1 0 0 0 0 0 2 0 2 0 0 2 0 0 2 2 0 2 2]\n",
      "[0 2 1 0 2 2 2 1 1 2 0 1 0 0 0 0 0 2 0 2 0 0 2 0 0 2 2 0 2 2]\n",
      "accuracy_score :  0.9666666666666667\n",
      "n_estimators =  40\n",
      "[0 2 1 0 1 2 2 1 1 2 0 1 0 0 0 0 0 2 0 2 0 0 2 0 0 2 2 0 2 2]\n",
      "[0 2 1 0 2 2 2 1 1 2 0 1 0 0 0 0 0 2 0 2 0 0 2 0 0 2 2 0 2 2]\n",
      "accuracy_score :  0.9666666666666667\n",
      "n_estimators =  50\n",
      "[0 2 1 0 1 2 2 1 1 2 0 1 0 0 0 0 0 2 0 2 0 0 2 0 0 2 2 0 2 2]\n",
      "[0 2 1 0 2 2 2 1 1 2 0 1 0 0 0 0 0 2 0 2 0 0 2 0 0 2 2 0 2 2]\n",
      "accuracy_score :  0.9666666666666667\n"
     ]
    }
   ],
   "source": [
    "from sklearn.ensemble import AdaBoostClassifier\n",
    "from sklearn.svm import SVC\n",
    "\n",
    "svcOuO = SVC(probability=True)\n",
    "\n",
    "for n in range(10, 51, 10):\n",
    "    print(\"n_estimators = \", n)\n",
    "    abc = AdaBoostClassifier(n_estimators=n, base_estimator=svcOuO)\n",
    "    abc.fit(train_data, train_label)\n",
    "    predicted = svc.predict(test_data)\n",
    "    print(predicted)\n",
    "    print(test_label)\n",
    "    print(\"accuracy_score : \", metrics.accuracy_score(test_label, predicted))\n",
    "    del abc"
   ]
  },
  {
   "cell_type": "code",
   "execution_count": null,
   "id": "cb67f97b",
   "metadata": {},
   "outputs": [],
   "source": []
  }
 ],
 "metadata": {
  "kernelspec": {
   "display_name": "Python 3 (ipykernel)",
   "language": "python",
   "name": "python3"
  },
  "language_info": {
   "codemirror_mode": {
    "name": "ipython",
    "version": 3
   },
   "file_extension": ".py",
   "mimetype": "text/x-python",
   "name": "python",
   "nbconvert_exporter": "python",
   "pygments_lexer": "ipython3",
   "version": "3.7.13"
  }
 },
 "nbformat": 4,
 "nbformat_minor": 5
}
