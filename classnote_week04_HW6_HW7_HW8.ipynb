{
 "cells": [
  {
   "cell_type": "code",
   "execution_count": 1,
   "id": "74a1b263",
   "metadata": {
    "scrolled": true
   },
   "outputs": [
    {
     "name": "stdout",
     "output_type": "stream",
     "text": [
      "(614, 8)\n",
      "(614,)\n"
     ]
    }
   ],
   "source": [
    "import numpy as np\n",
    "import pandas as pd\n",
    "\n",
    "data = pd.read_csv('datasets_diabetes.csv')\n",
    "X = data.iloc[:, 0:8]\n",
    "Y = data.iloc[:, 8]\n",
    "\n",
    "# print('X : \\n', X)\n",
    "# print('Y : \\n', Y)\n",
    "\n",
    "from sklearn.model_selection import train_test_split\n",
    "X_train, X_test, Y_train, Y_test = train_test_split(X, Y, test_size=0.2)\n",
    "\n",
    "print(X_train.shape)\n",
    "print(Y_train.shape)\n"
   ]
  },
  {
   "cell_type": "code",
   "execution_count": 2,
   "id": "917276cc",
   "metadata": {},
   "outputs": [
    {
     "name": "stdout",
     "output_type": "stream",
     "text": [
      "KNeighborsClassifier(n_neighbors=20)\n",
      "0.7703583061889251\n",
      "0.7337662337662337\n"
     ]
    }
   ],
   "source": [
    "from sklearn.neighbors import KNeighborsClassifier\n",
    "\n",
    "knn = KNeighborsClassifier(n_neighbors=20)\n",
    "knn.fit(X_train,Y_train)\n",
    "print(knn)\n",
    "print(knn.score(X_train, Y_train))\n",
    "print(knn.score(X_test, Y_test))"
   ]
  },
  {
   "cell_type": "code",
   "execution_count": 3,
   "id": "d428a6b2",
   "metadata": {},
   "outputs": [
    {
     "data": {
      "image/png": "[encoded data removed]",
      "text/plain": [
       "<Figure size 400x300 with 1 Axes>"
      ]
     },
     "metadata": {},
     "output_type": "display_data"
    }
   ],
   "source": [
    "import matplotlib.pyplot as plt\n",
    "\n",
    "n_count = []\n",
    "train_score = []\n",
    "test_score = []\n",
    "\n",
    "plt.figure(figsize=(4, 3))\n",
    "\n",
    "for i in range(1, 21):\n",
    "    knn = KNeighborsClassifier(n_neighbors=i)\n",
    "    knn.fit(X_train,Y_train)\n",
    "    n_count.append(i)\n",
    "    train_score.append(knn.score(X_train, Y_train))\n",
    "    test_score.append(knn.score(X_test, Y_test))\n",
    "    \n",
    "plt.scatter(n_count, train_score, s=1.0, c='g')\n",
    "plt.scatter(n_count, test_score, s=1.0, c='b')\n",
    "\n",
    "plt.show()"
   ]
  },
  {
   "cell_type": "code",
   "execution_count": 4,
   "id": "a282f4e6",
   "metadata": {},
   "outputs": [
    {
     "name": "stdout",
     "output_type": "stream",
     "text": [
      "KNeighborsClassifier()\n",
      "0.8110749185667753\n",
      "0.6948051948051948\n",
      "[0]\n"
     ]
    }
   ],
   "source": [
    "from sklearn.neighbors import KNeighborsClassifier\n",
    "\n",
    "knn = KNeighborsClassifier()\n",
    "knn.fit(X_train,Y_train)\n",
    "print(knn)\n",
    "print(knn.score(X_train, Y_train))\n",
    "print(knn.score(X_test, Y_test))\n",
    "\n",
    "# r = knn.predict(X_test)\n",
    "# print('r : \\n', r)\n",
    "# print('Y_test : \\n', Y_test)\n",
    "\n",
    "p = data.iloc[23:24, 0:8]\n",
    "print(knn.predict(p))"
   ]
  },
  {
   "cell_type": "code",
   "execution_count": 10,
   "id": "7ed4c73c",
   "metadata": {},
   "outputs": [
    {
     "name": "stdout",
     "output_type": "stream",
     "text": [
      "KNeighborsClassifier()\n",
      "0.8110749185667753\n",
      "0.6948051948051948\n",
      "[0 1 0 1 1]\n"
     ]
    }
   ],
   "source": [
    "from sklearn.neighbors import KNeighborsClassifier\n",
    "\n",
    "knn = KNeighborsClassifier()\n",
    "knn.fit(X_train,Y_train)\n",
    "print(knn)\n",
    "print(knn.score(X_train, Y_train))\n",
    "print(knn.score(X_test, Y_test))\n",
    "\n",
    "# r = knn.predict(X_test)\n",
    "# print('r : \\n', r)\n",
    "# print('Y_test : \\n', Y_test)\n",
    "\n",
    "test_datasets = pd.read_csv('datasets_diabetes_test.csv') # 五筆資料\n",
    "p = test_datasets.iloc[:, 0:8]\n",
    "print(knn.predict(p))"
   ]
  },
  {
   "cell_type": "code",
   "execution_count": null,
   "id": "7bb36bbe",
   "metadata": {},
   "outputs": [],
   "source": []
  }
 ],
 "metadata": {
  "kernelspec": {
   "display_name": "Python 3 (ipykernel)",
   "language": "python",
   "name": "python3"
  },
  "language_info": {
   "codemirror_mode": {
    "name": "ipython",
    "version": 3
   },
   "file_extension": ".py",
   "mimetype": "text/x-python",
   "name": "python",
   "nbconvert_exporter": "python",
   "pygments_lexer": "ipython3",
   "version": "3.7.13"
  }
 },
 "nbformat": 4,
 "nbformat_minor": 5
}
